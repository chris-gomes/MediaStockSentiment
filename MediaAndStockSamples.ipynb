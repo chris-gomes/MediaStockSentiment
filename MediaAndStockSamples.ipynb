{
 "cells": [
  {
   "cell_type": "heading",
   "metadata": {},
   "level": 1,
   "source": [
    "Media and Stock Sample Insights"
   ]
  },
  {
   "cell_type": "markdown",
   "metadata": {},
   "source": [
    "Import the libraries for the script"
   ]
  },
  {
   "cell_type": "code",
   "execution_count": 3,
   "metadata": {
    "collapsed": true
   },
   "outputs": [
    {
     "data": {
      "text/plain": [
       "[(u'spark.master', u'local[*]'),\n (u'spark.submit.deployMode', u'client'),\n (u'spark.app.name', u'pyspark-shell')]"
      ]
     },
     "execution_count": 3,
     "metadata": {},
     "output_type": "execute_result"
    }
   ],
   "source": [
    "import findspark\n",
    "\n",
    "findspark.init()\n",
    "import pyspark\n",
    "import pyspark.sql\n",
    "from pyspark import SparkConf\n",
    "from pyspark.sql import SparkSession\n",
    "from pyspark.mllib.stat import Statistics\n",
    "\n",
    "spark = SparkSession.builder.getOrCreate()\n",
    "SparkConf().getAll()"
   ]
  },
  {
   "cell_type": "markdown",
   "metadata": {},
   "source": [
    "Import the data from local csv files"
   ]
  },
  {
   "cell_type": "code",
   "execution_count": 4,
   "metadata": {
    "collapsed": true
   },
   "outputs": [],
   "source": [
    "media = spark.read \\\n",
    "    .format('csv') \\\n",
    "    .option('header', 'true') \\\n",
    "    .option('inferSchema', 'true') \\\n",
    "    .load(path='C:\\Users\\ChrisGomes\\Projects\\MediaStock\\gdelt\\*.csv')\n",
    "sp500 = spark.read \\\n",
    "    .format('csv') \\\n",
    "    .option('header', 'true') \\\n",
    "    .option('inferSchema', 'true') \\\n",
    "    .load(path='C:\\Users\\ChrisGomes\\Projects\\MediaStock\\s&p500.csv')\n",
    "sp500Companies = spark.read \\\n",
    "    .format('csv') \\\n",
    "    .option('header', 'true') \\\n",
    "    .option('inferSchema', 'true') \\\n",
    "    .load(path='C:\\Users\\ChrisGomes\\Projects\\MediaStock\\s&p500Companies.csv')\n"
   ]
  },
  {
   "cell_type": "markdown",
   "metadata": {},
   "source": [
    "Check correlation between average GoldsteinScale and price change per day"
   ]
  },
  {
   "cell_type": "code",
   "execution_count": 23,
   "metadata": {},
   "outputs": [],
   "source": [
    "# get avg goldstein scale per date\n",
    "goldsteinScales = media.groupby('SQLDATE').agg(pyspark.sql.functions.avg('GoldsteinScale'))\n"
   ]
  },
  {
   "cell_type": "code",
   "execution_count": 30,
   "metadata": {},
   "outputs": [],
   "source": [
    "# calculate absolute price change\n",
    "sp500 = sp500.withColumn('PriceChange', pyspark.sql.functions.abs(sp500['Open'] - sp500['Close']))\n",
    "\n",
    "# Convert Date to SQLDATE format\n",
    "sp500 = sp500.withColumn('SQLDATEString', pyspark.sql.functions.date_format('Date', 'yyyyMMdd'))\n",
    "\n",
    "# Convert SQLDATE to int\n",
    "sp500 = sp500.withColumn('SQLDATE', sp500['SQLDATEString'].cast('Int'))\n",
    "\n",
    "# get PriceChange per date\n",
    "priceChanges = sp500.groupby('SQLDATE').agg(pyspark.sql.functions.avg('PriceChange'))"
   ]
  },
  {
   "cell_type": "code",
   "execution_count": 38,
   "metadata": {},
   "outputs": [],
   "source": [
    "# join the two measurements\n",
    "goldsteinAndPrice = goldsteinScales.join(priceChanges, 'SQLDATE')"
   ]
  },
  {
   "cell_type": "code",
   "execution_count": 41,
   "metadata": {},
   "outputs": [],
   "source": [
    "# find correlation\n",
    "Statistics.corr(goldsteinAndPrice.drop('SQLDATE').collect(), method='pearson')"
   ]
  },
  {
   "cell_type": "code",
   "execution_count": null,
   "metadata": {},
   "outputs": [],
   "source": []
  }
 ],
 "metadata": {
  "kernelspec": {
   "display_name": "Python 2",
   "language": "python",
   "name": "python2"
  },
  "language_info": {
   "codemirror_mode": {
    "name": "ipython",
    "version": 2
   },
   "file_extension": ".py",
   "mimetype": "text/x-python",
   "name": "python",
   "nbconvert_exporter": "python",
   "pygments_lexer": "ipython2",
   "version": "2.7.6"
  }
 },
 "nbformat": 4,
 "nbformat_minor": 0
}
