{
 "cells": [
  {
   "cell_type": "heading",
   "metadata": {},
   "level": 1,
   "source": [
    "Media and Stock Sample Insights"
   ]
  },
  {
   "cell_type": "markdown",
   "metadata": {},
   "source": [
    "Import the libraries for the script"
   ]
  },
  {
   "cell_type": "code",
   "execution_count": 3,
   "metadata": {
    "collapsed": true
   },
   "outputs": [
    {
     "data": {
      "text/plain": [
       "[(u'spark.master', u'local[*]'),\n (u'spark.submit.deployMode', u'client'),\n (u'spark.app.name', u'pyspark-shell')]"
      ]
     },
     "execution_count": 3,
     "metadata": {},
     "output_type": "execute_result"
    }
   ],
   "source": [
    "import findspark\n",
    "\n",
    "findspark.init()\n",
    "import pyspark\n",
    "import pyspark.sql\n",
    "from pyspark import SparkConf\n",
    "from pyspark.sql import SparkSession\n",
    "fr import Statistics\n",
    "\n",
    "spark = SparkSession.builder.getOrCreate()\n",
    "SparkConf().getAll()"
   ]
  },
  {
   "cell_type": "markdown",
   "metadata": {},
   "source": [
    "Import the data from local csv files"
   ]
  },
  {
   "cell_type": "code",
   "execution_count": 4,
   "metadata": {
    "collapsed": true
   },
   "outputs": [],
   "source": [
    "media = spark.read \\\n",
    "    .format('csv') \\\n",
    "    .option('header', 'true') \\\n",
    "    .option('inferSchema', 'true') \\\n",
    "    .load(path='C:\\Users\\ChrisGomes\\Projects\\MediaStock\\gdelt\\*.csv')\n",
    "sp500 = spark.read \\\n",
    "    .format('csv') \\\n",
    "    .option('header', 'true') \\\n",
    "    .option('inferSchema', 'true') \\\n",
    "    .load(path='C:\\Users\\ChrisGomes\\Projects\\MediaStock\\s&p500.csv')\n",
    "sp500Companies = spark.read \\\n",
    "    .format('csv') \\\n",
    "    .option('header', 'true') \\\n",
    "    .option('inferSchema', 'true') \\\n",
    "    .load(path='C:\\Users\\ChrisGomes\\Projects\\MediaStock\\s&p500Companies.csv')\n"
   ]
  },
  {
   "cell_type": "markdown",
   "metadata": {},
   "source": [
    "Check correlation between average GoldsteinScale and price change per day"
   ]
  },
  {
   "cell_type": "code",
   "execution_count": 23,
   "metadata": {},
   "outputs": [],
   "source": [
    "# get avg goldstein scale per date\n",
    "goldsteinScales = media.groupby('SQLDATE').agg(pyspark.sql.functions.avg('GoldsteinScale'))\n"
   ]
  },
  {
   "cell_type": "code",
   "execution_count": 24,
   "metadata": {},
   "outputs": [],
   "source": [
    "# calculate absolute price change\n",
    "sp500 = sp500.withColumn('PriceChange', pyspark.sql.functions.abs(sp500['Open'] - sp500['Close']))\n",
    "\n",
    "# Convert Date to SQLDATE format\n",
    "sp500 = sp500.withColumn('SQLDATE', pyspark.sql.functions.date_format('Date', 'yyyyMMdd'))\n",
    "\n",
    "# get PriceChange per date\n",
    "priceChanges = sp500.groupby('SQLDATE').agg(pyspark.sql.functions.avg('PriceChange'))"
   ]
  },
  {
   "cell_type": "code",
   "execution_count": null,
   "metadata": {},
   "outputs": [
    {
     "ename": "AnalysisException",
     "evalue": "u'Detected cartesian product for INNER join between logical plans\\nAggregate [SQLDATE#13], [SQLDATE#13, avg(GoldsteinScale#42) AS avg(GoldsteinScale)#406]\\n+- Project [SQLDATE#13, GoldsteinScale#42]\\n   +- Relation[GLOBALEVENTID#12,SQLDATE#13,MonthYear#14,Year#15,FractionDate#16,Actor1Code#17,Actor1Name#18,Actor1CountryCode#19,Actor1KnownGroupCode#20,Actor1EthnicCode#21,Actor1Religion1Code#22,Actor1Religion2Code#23,Actor1Type1Code#24,Actor1Type2Code#25,Actor1Type3Code#26,Actor2Code#27,Actor2Name#28,Actor2CountryCode#29,Actor2KnownGroupCode#30,Actor2EthnicCode#31,Actor2Religion1Code#32,Actor2Religion2Code#33,Actor2Type1Code#34,Actor2Type2Code#35,... 34 more fields] csv\\nand\\nAggregate [SQLDATE#426], [SQLDATE#426, avg(PriceChange#415) AS avg(PriceChange)#450]\\n+- Project [abs((Open#142 - Close#145)) AS PriceChange#415, date_format(Date#141, yyyyMMdd, Some(America/New_York)) AS SQLDATE#426]\\n   +- Relation[Date#141,Open#142,High#143,Low#144,Close#145,Adj Close#146,Volume#147L] csv\\nJoin condition is missing or trivial.\\nUse the CROSS JOIN syntax to allow cartesian products between these relations.;'",
     "traceback": [
      "\u001b[0;31m\u001b[0m",
      "\u001b[0;31mAnalysisException\u001b[0mTraceback (most recent call last)",
      "\u001b[0;32m<ipython-input-22-4f30765faf17>\u001b[0m in \u001b[0;36m<module>\u001b[0;34m()\u001b[0m\n\u001b[1;32m      1\u001b[0m \u001b[0;31m# calculate correlation\u001b[0m\u001b[0;34m\u001b[0m\u001b[0;34m\u001b[0m\u001b[0m\n\u001b[0;32m----> 2\u001b[0;31m \u001b[0mgoldsteinAndPrice\u001b[0m \u001b[0;34m=\u001b[0m \u001b[0mgoldsteinScales\u001b[0m\u001b[0;34m.\u001b[0m\u001b[0mjoin\u001b[0m\u001b[0;34m(\u001b[0m\u001b[0mpriceChanges\u001b[0m\u001b[0;34m)\u001b[0m\u001b[0;34m.\u001b[0m\u001b[0mcollect\u001b[0m\u001b[0;34m(\u001b[0m\u001b[0;34m)\u001b[0m\u001b[0;34m\u001b[0m\u001b[0m\n\u001b[0m",
      "\u001b[0;32mC:\\spark-2.2.1-bin-hadoop2.7\\python\\pyspark\\sql\\dataframe.pyc\u001b[0m in \u001b[0;36mcollect\u001b[0;34m(self)\u001b[0m\n\u001b[1;32m    436\u001b[0m         \"\"\"\n\u001b[1;32m    437\u001b[0m         \u001b[0;32mwith\u001b[0m \u001b[0mSCCallSiteSync\u001b[0m\u001b[0;34m(\u001b[0m\u001b[0mself\u001b[0m\u001b[0;34m.\u001b[0m\u001b[0m_sc\u001b[0m\u001b[0;34m)\u001b[0m \u001b[0;32mas\u001b[0m \u001b[0mcss\u001b[0m\u001b[0;34m:\u001b[0m\u001b[0;34m\u001b[0m\u001b[0m\n\u001b[0;32m--> 438\u001b[0;31m             \u001b[0mport\u001b[0m \u001b[0;34m=\u001b[0m \u001b[0mself\u001b[0m\u001b[0;34m.\u001b[0m\u001b[0m_jdf\u001b[0m\u001b[0;34m.\u001b[0m\u001b[0mcollectToPython\u001b[0m\u001b[0;34m(\u001b[0m\u001b[0;34m)\u001b[0m\u001b[0;34m\u001b[0m\u001b[0m\n\u001b[0m\u001b[1;32m    439\u001b[0m         \u001b[0;32mreturn\u001b[0m \u001b[0mlist\u001b[0m\u001b[0;34m(\u001b[0m\u001b[0m_load_from_socket\u001b[0m\u001b[0;34m(\u001b[0m\u001b[0mport\u001b[0m\u001b[0;34m,\u001b[0m \u001b[0mBatchedSerializer\u001b[0m\u001b[0;34m(\u001b[0m\u001b[0mPickleSerializer\u001b[0m\u001b[0;34m(\u001b[0m\u001b[0;34m)\u001b[0m\u001b[0;34m)\u001b[0m\u001b[0;34m)\u001b[0m\u001b[0;34m)\u001b[0m\u001b[0;34m\u001b[0m\u001b[0m\n\u001b[1;32m    440\u001b[0m \u001b[0;34m\u001b[0m\u001b[0m\n",
      "\u001b[0;32mC:\\spark-2.2.1-bin-hadoop2.7\\python\\lib\\py4j-0.10.4-src.zip\\py4j\\java_gateway.py\u001b[0m in \u001b[0;36m__call__\u001b[0;34m(self, *args)\u001b[0m\n\u001b[1;32m   1131\u001b[0m         \u001b[0manswer\u001b[0m \u001b[0;34m=\u001b[0m \u001b[0mself\u001b[0m\u001b[0;34m.\u001b[0m\u001b[0mgateway_client\u001b[0m\u001b[0;34m.\u001b[0m\u001b[0msend_command\u001b[0m\u001b[0;34m(\u001b[0m\u001b[0mcommand\u001b[0m\u001b[0;34m)\u001b[0m\u001b[0;34m\u001b[0m\u001b[0m\n\u001b[1;32m   1132\u001b[0m         return_value = get_return_value(\n\u001b[0;32m-> 1133\u001b[0;31m             answer, self.gateway_client, self.target_id, self.name)\n\u001b[0m\u001b[1;32m   1134\u001b[0m \u001b[0;34m\u001b[0m\u001b[0m\n\u001b[1;32m   1135\u001b[0m         \u001b[0;32mfor\u001b[0m \u001b[0mtemp_arg\u001b[0m \u001b[0;32min\u001b[0m \u001b[0mtemp_args\u001b[0m\u001b[0;34m:\u001b[0m\u001b[0;34m\u001b[0m\u001b[0m\n",
      "\u001b[0;32mC:\\spark-2.2.1-bin-hadoop2.7\\python\\pyspark\\sql\\utils.pyc\u001b[0m in \u001b[0;36mdeco\u001b[0;34m(*a, **kw)\u001b[0m\n\u001b[1;32m     67\u001b[0m                                              e.java_exception.getStackTrace()))\n\u001b[1;32m     68\u001b[0m             \u001b[0;32mif\u001b[0m \u001b[0ms\u001b[0m\u001b[0;34m.\u001b[0m\u001b[0mstartswith\u001b[0m\u001b[0;34m(\u001b[0m\u001b[0;34m'org.apache.spark.sql.AnalysisException: '\u001b[0m\u001b[0;34m)\u001b[0m\u001b[0;34m:\u001b[0m\u001b[0;34m\u001b[0m\u001b[0m\n\u001b[0;32m---> 69\u001b[0;31m                 \u001b[0;32mraise\u001b[0m \u001b[0mAnalysisException\u001b[0m\u001b[0;34m(\u001b[0m\u001b[0ms\u001b[0m\u001b[0;34m.\u001b[0m\u001b[0msplit\u001b[0m\u001b[0;34m(\u001b[0m\u001b[0;34m': '\u001b[0m\u001b[0;34m,\u001b[0m \u001b[0;36m1\u001b[0m\u001b[0;34m)\u001b[0m\u001b[0;34m[\u001b[0m\u001b[0;36m1\u001b[0m\u001b[0;34m]\u001b[0m\u001b[0;34m,\u001b[0m \u001b[0mstackTrace\u001b[0m\u001b[0;34m)\u001b[0m\u001b[0;34m\u001b[0m\u001b[0m\n\u001b[0m\u001b[1;32m     70\u001b[0m             \u001b[0;32mif\u001b[0m \u001b[0ms\u001b[0m\u001b[0;34m.\u001b[0m\u001b[0mstartswith\u001b[0m\u001b[0;34m(\u001b[0m\u001b[0;34m'org.apache.spark.sql.catalyst.analysis'\u001b[0m\u001b[0;34m)\u001b[0m\u001b[0;34m:\u001b[0m\u001b[0;34m\u001b[0m\u001b[0m\n\u001b[1;32m     71\u001b[0m                 \u001b[0;32mraise\u001b[0m \u001b[0mAnalysisException\u001b[0m\u001b[0;34m(\u001b[0m\u001b[0ms\u001b[0m\u001b[0;34m.\u001b[0m\u001b[0msplit\u001b[0m\u001b[0;34m(\u001b[0m\u001b[0;34m': '\u001b[0m\u001b[0;34m,\u001b[0m \u001b[0;36m1\u001b[0m\u001b[0;34m)\u001b[0m\u001b[0;34m[\u001b[0m\u001b[0;36m1\u001b[0m\u001b[0;34m]\u001b[0m\u001b[0;34m,\u001b[0m \u001b[0mstackTrace\u001b[0m\u001b[0;34m)\u001b[0m\u001b[0;34m\u001b[0m\u001b[0m\n",
      "\u001b[0;31mAnalysisException\u001b[0m: u'Detected cartesian product for INNER join between logical plans\\nAggregate [SQLDATE#13], [SQLDATE#13, avg(GoldsteinScale#42) AS avg(GoldsteinScale)#406]\\n+- Project [SQLDATE#13, GoldsteinScale#42]\\n   +- Relation[GLOBALEVENTID#12,SQLDATE#13,MonthYear#14,Year#15,FractionDate#16,Actor1Code#17,Actor1Name#18,Actor1CountryCode#19,Actor1KnownGroupCode#20,Actor1EthnicCode#21,Actor1Religion1Code#22,Actor1Religion2Code#23,Actor1Type1Code#24,Actor1Type2Code#25,Actor1Type3Code#26,Actor2Code#27,Actor2Name#28,Actor2CountryCode#29,Actor2KnownGroupCode#30,Actor2EthnicCode#31,Actor2Religion1Code#32,Actor2Religion2Code#33,Actor2Type1Code#34,Actor2Type2Code#35,... 34 more fields] csv\\nand\\nAggregate [SQLDATE#426], [SQLDATE#426, avg(PriceChange#415) AS avg(PriceChange)#450]\\n+- Project [abs((Open#142 - Close#145)) AS PriceChange#415, date_format(Date#141, yyyyMMdd, Some(America/New_York)) AS SQLDATE#426]\\n   +- Relation[Date#141,Open#142,High#143,Low#144,Close#145,Adj Close#146,Volume#147L] csv\\nJoin condition is missing or trivial.\\nUse the CROSS JOIN syntax to allow cartesian products between these relations.;'"
     ],
     "output_type": "error"
    }
   ],
   "source": [
    "# calculate correlation\n",
    "goldsteinAndPrice = goldsteinScales.join(priceChanges)"
   ]
  },
  {
   "cell_type": "code",
   "execution_count": null,
   "metadata": {},
   "outputs": [],
   "source": []
  }
 ],
 "metadata": {
  "kernelspec": {
   "display_name": "Python 2",
   "language": "python",
   "name": "python2"
  },
  "language_info": {
   "codemirror_mode": {
    "name": "ipython",
    "version": 2
   },
   "file_extension": ".py",
   "mimetype": "text/x-python",
   "name": "python",
   "nbconvert_exporter": "python",
   "pygments_lexer": "ipython2",
   "version": "2.7.6"
  }
 },
 "nbformat": 4,
 "nbformat_minor": 0
}
