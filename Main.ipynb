{
 "cells": [
  {
   "cell_type": "heading",
   "metadata": {
    "collapsed": false
   },
   "level": 1,
   "source": [
    "Media Stock Predictive Models"
   ]
  },
  {
   "cell_type": "markdown",
   "metadata": {},
   "source": [
    "Import Libraries"
   ]
  },
  {
   "cell_type": "code",
   "execution_count": 1,
   "metadata": {},
   "outputs": [],
   "source": [
    "import pandas as pd\n",
    "import numpy as np\n",
    "import datetime as dt\n",
    "%matplotlib inline"
   ]
  },
  {
   "cell_type": "markdown",
   "metadata": {},
   "source": [
    "Import Data Sets"
   ]
  },
  {
   "cell_type": "code",
   "execution_count": 2,
   "metadata": {},
   "outputs": [],
   "source": [
    "nasdaq = pd.read_csv('C:\\\\Users\\ChrisGomes\\Projects\\MediaStock\\\\nasdaqFull.csv')\n",
    "media1 = pd.read_csv('C:\\\\Users\\ChrisGomes\\Projects\\MediaStock\\media1.csv') \n",
    "media2 = pd.read_csv('C:\\\\Users\\ChrisGomes\\Projects\\MediaStock\\media2.csv')\n",
    "media = pd.concat([media1, media2])"
   ]
  },
  {
   "cell_type": "markdown",
   "metadata": {},
   "source": [
    "Stock Price Date Formating and Aggregation"
   ]
  },
  {
   "cell_type": "code",
   "execution_count": 3,
   "metadata": {
    "collapsed": false
   },
   "outputs": [],
   "source": [
    "# convert to date type in data frame\n",
    "nasdaq['Date'] = pd.to_datetime(nasdaq['Date'])\n",
    "\n",
    "# extract month and year and format it to match media data set\n",
    "nasdaq['MonthYear'] = nasdaq.Date.dt.to_period('M')\n",
    "nasdaq['MonthYear'] = nasdaq['MonthYear'].astype('str').str.replace('-', '').astype(int)\n",
    "nasdaqMonthly = nasdaq.groupby(by='MonthYear')['Close'].mean().reset_index()"
   ]
  },
  {
   "cell_type": "markdown",
   "metadata": {},
   "source": [
    "Data Plots, Normality and Outliers for Media Features"
   ]
  },
  {
   "cell_type": "code",
   "execution_count": 9,
   "metadata": {},
   "outputs": [],
   "source": [
    "# Plot for Goldstein Scale feature of media data set\n",
    "media.plot(kind='scatter', x='MonthYear', y='GoldsteinScale', figsize=(20, 10)).tick_params(colors='white')"
   ]
  }
 ],
 "metadata": {
  "kernelspec": {
   "display_name": "Python 2",
   "language": "python",
   "name": "python2"
  },
  "language_info": {
   "codemirror_mode": {
    "name": "ipython",
    "version": 2
   },
   "file_extension": ".py",
   "mimetype": "text/x-python",
   "name": "python",
   "nbconvert_exporter": "python",
   "pygments_lexer": "ipython2",
   "version": "2.7.6"
  }
 },
 "nbformat": 4,
 "nbformat_minor": 0
}
